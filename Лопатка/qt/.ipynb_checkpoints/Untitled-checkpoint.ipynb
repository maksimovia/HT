{
 "cells": [
  {
   "cell_type": "code",
   "execution_count": null,
   "id": "18fb5720",
   "metadata": {},
   "outputs": [],
   "source": [
    "from PyQt6.QtWidgets import QApplication, QMainWindow, QPushButton, QVBoxLayout, QWidget\n",
    "from PyQt6.QtCore import QSize\n",
    "from matplotlib.backends.backend_qtagg import FigureCanvasQTAgg\n",
    "import matplotlib.pyplot as plt\n",
    "\n",
    "class window(QMainWindow):\n",
    "    def __init__(self):\n",
    "        super(window, self).__init__()\n",
    "        self.setWindowTitle(\"пргм\")\n",
    "        self.setFixedSize(QSize(700, 700))\n",
    "        \n",
    "        self.graph = FigureCanvasQTAgg(plt.Figure())\n",
    "        self.ax    = self.graph.figure.subplots()\n",
    "        \n",
    "        button = QPushButton(\"го\")\n",
    "        button.clicked.connect(self.func)\n",
    "        \n",
    "        layout = QVBoxLayout()\n",
    "        layout.addWidget(self.graph)\n",
    "        layout.addWidget(button)\n",
    "        container = QWidget()\n",
    "        container.setLayout(layout)\n",
    "        self.setCentralWidget(container)\n",
    "        \n",
    "##############################\n",
    "    def func(self):\n",
    "        from random import randint\n",
    "        X = [100]\n",
    "        Y = [100]\n",
    "        for i in range(1000):\n",
    "            X.append(randint(max(0,X[-1]-5),min(200,X[-1]+5)))\n",
    "            Y.append(randint(max(0,Y[-1]-5),min(200,Y[-1]+5)))\n",
    "            if len(X)>10:\n",
    "                del X[0:5]\n",
    "                del Y[0:5]\n",
    "            self.ax.clear()\n",
    "            self.ax.plot(X, Y)\n",
    "            self.ax.set_xlim([0, 200])\n",
    "            self.ax.set_ylim([0, 200])\n",
    "            self.graph.draw()\n",
    "            self.graph.flush_events()\n",
    "##############################\n",
    "\n",
    "app = QApplication([])\n",
    "w = window()\n",
    "w.show()\n",
    "app.exec()"
   ]
  },
  {
   "cell_type": "code",
   "execution_count": null,
   "id": "5ff1e0ab",
   "metadata": {},
   "outputs": [],
   "source": []
  }
 ],
 "metadata": {
  "kernelspec": {
   "display_name": "Python 3 (ipykernel)",
   "language": "python",
   "name": "python3"
  },
  "language_info": {
   "codemirror_mode": {
    "name": "ipython",
    "version": 3
   },
   "file_extension": ".py",
   "mimetype": "text/x-python",
   "name": "python",
   "nbconvert_exporter": "python",
   "pygments_lexer": "ipython3",
   "version": "3.9.12"
  }
 },
 "nbformat": 4,
 "nbformat_minor": 5
}
